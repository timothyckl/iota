{
 "cells": [
  {
   "cell_type": "code",
   "execution_count": 2,
   "id": "3a9e63e5-70a3-4370-bec3-9c69560f07b7",
   "metadata": {},
   "outputs": [],
   "source": [
    "import json\n",
    "from iotadb import IotaDB, Document\n",
    "\n",
    "docs = []\n",
    "\n",
    "with open(\"./pokemon.jsonl\", \"r\") as f:\n",
    "    for json_str in f:\n",
    "        result = json.loads(json_str)\n",
    "        \n",
    "        docs.append(\n",
    "            Document(\n",
    "                id=result['name'],\n",
    "                text=result['info']['description'],\n",
    "            )\n",
    "        )"
   ]
  },
  {
   "cell_type": "code",
   "execution_count": 2,
   "id": "b265f023-8305-492e-81a8-e99a1efd1326",
   "metadata": {},
   "outputs": [],
   "source": [
    "db = IotaDB(\n",
    "    embed_model=\"BAAI/bge-large-en-v1.5\",\n",
    "    persist=True, \n",
    "    persist_dir=\"data/\"\n",
    ")\n",
    "\n",
    "db.create_collection(name=\"pokemon-collection\", documents=docs)"
   ]
  },
  {
   "cell_type": "code",
   "execution_count": 3,
   "id": "6f143fb9-2f35-47cf-b9ce-87ab4cd0cc41",
   "metadata": {},
   "outputs": [
    {
     "name": "stdout",
     "output_type": "stream",
     "text": [
      "Name: Drowzee\n",
      "Info: Puts enemies to sleep then eats their dreams. Occasionally gets sick from eating bad dreams.\n",
      "Similarity: 0.728\n",
      "\n",
      "Name: Abra\n",
      "Info: Sleeps 18 hours a day. If it senses danger, it will teleport itself to safety even as it sleeps.\n",
      "Similarity: 0.719\n",
      "\n",
      "Name: Snorlax\n",
      "Info: Very lazy. Just eats and sleeps. As its rotund bulk builds, it becomes steadily more slothful.\n",
      "Similarity: 0.703\n",
      "\n",
      "Name: Dodrio\n",
      "Info: Uses its three brains to execute complex plans. While two heads sleep, one head stays awake.\n",
      "Similarity: 0.663\n",
      "\n",
      "Name: Meowth\n",
      "Info: Adores circular objects. Wanders the streets on a nightly basis to look for dropped loose change.\n",
      "Similarity: 0.656\n",
      "\n"
     ]
    }
   ],
   "source": [
    "results = db.search(query=\"likes to sleep\", top_k=5, return_similarities=True)\n",
    "\n",
    "for doc, sim in results:\n",
    "    print(f\"Name: {doc.id}\")\n",
    "    print(f\"Info: {doc.text}\")\n",
    "    print(f\"Similarity: {sim:.3f}\\n\")"
   ]
  },
  {
   "cell_type": "code",
   "execution_count": null,
   "id": "d83db448-9118-4590-a500-bc30f09f40d5",
   "metadata": {},
   "outputs": [],
   "source": []
  }
 ],
 "metadata": {
  "kernelspec": {
   "display_name": "Python 3 (ipykernel)",
   "language": "python",
   "name": "python3"
  },
  "language_info": {
   "codemirror_mode": {
    "name": "ipython",
    "version": 3
   },
   "file_extension": ".py",
   "mimetype": "text/x-python",
   "name": "python",
   "nbconvert_exporter": "python",
   "pygments_lexer": "ipython3",
   "version": "3.11.8"
  }
 },
 "nbformat": 4,
 "nbformat_minor": 5
}
